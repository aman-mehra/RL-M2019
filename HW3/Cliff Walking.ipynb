{
 "cells": [
  {
   "cell_type": "code",
   "execution_count": 1,
   "metadata": {},
   "outputs": [],
   "source": [
    "import random\n",
    "import numpy as np\n",
    "import matplotlib.pyplot as plt\n",
    "from tqdm import tqdm\n",
    "%matplotlib inline"
   ]
  },
  {
   "cell_type": "code",
   "execution_count": 2,
   "metadata": {},
   "outputs": [],
   "source": [
    "class CliffWalk:\n",
    "    def __init__(self,epsilon,alpha):\n",
    "        self.grid = (4,12) # Grid dimensions\n",
    "        self.start_state =  (4-1,1-1) # Start state\n",
    "        self.stop_state = (4-1,12-1) # Termianl State\n",
    "        self.rewards = np.ones((4,12))*-1 # Rewards for arriving at a state\n",
    "        # Describing cliff and its reward on grid\n",
    "        self.cliff_state_cols = np.arange(10,dtype=\"uint8\") + 1\n",
    "        self.cliff_state_row = 4-1\n",
    "        self.rewards[self.cliff_state_row,self.cliff_state_cols] = -100\n",
    "        # Maping actions to directions \n",
    "        self.action_map = {0:(1,0),1:(-1,0),2:(0,1),3:(0,-1)} # South,North,Right,Left\n",
    "        self.epsilon = epsilon\n",
    "        self.alpha = alpha\n",
    "        self.reset_q()\n",
    "        \n",
    "    def reset_q(self):\n",
    "        self.q = np.random.rand(4,12,4)\n",
    "        self.q[3,11,:] = 0. # Terminal State has 0 value\n",
    "        \n",
    "    # Picks greedy action from given state\n",
    "    def greedy_action(self,state):\n",
    "        x,y = state\n",
    "        return np.argmax(self.q[x,y,:])\n",
    "    \n",
    "    # Picks epsilon greedy action from given state\n",
    "    def epsilon_greedy_action(self,state):\n",
    "        x,y = state\n",
    "        greedy = np.random.uniform() > self.epsilon\n",
    "        if greedy:\n",
    "            return np.argmax(self.q[x,y,:])\n",
    "        return np.random.randint(4)\n",
    "    \n",
    "    # Performs given action on current state\n",
    "    # Accounts for falling off cliff and trying to go outside grid\n",
    "    def perform_action(self,state,action):\n",
    "        x,y = state   \n",
    "        # Checking if action changes state leading to falling off the cliff \n",
    "        if x==self.cliff_state_row and (y in self.cliff_state_cols):\n",
    "            return self.start_state, self.rewards[state]\n",
    "        x_n,y_n = (state[0]+self.action_map[action][0],state[1]+self.action_map[action][1])\n",
    "        # Check if action cause state to go beyond grid  \n",
    "        if (x_n<0 or x_n>=self.grid[0]) or (y_n<0 or y_n>=self.grid[1]):\n",
    "            return state,self.rewards[state]\n",
    "        return (x_n,y_n), self.rewards[state]\n",
    "    \n",
    "    # Runs episode using the specified method\n",
    "    def run_eps(self,episodes,method):\n",
    "        \n",
    "        # Tracks rewards received each episode\n",
    "        reward_sum = np.zeros(episodes)\n",
    "        \n",
    "        for ep in range(episodes):\n",
    "        \n",
    "            # Begin at start_state each episode\n",
    "            cur_state = self.start_state\n",
    "            while cur_state != self.stop_state:\n",
    "                \n",
    "                # Generate episode using epsilon greedy behaviour policy\n",
    "                cur_action = self.epsilon_greedy_action(cur_state)\n",
    "                # Perform action based on action selected by behaviour policy\n",
    "                next_state, reward = self.perform_action(cur_state,cur_action)\n",
    "                \n",
    "                # Save reward received\n",
    "                reward_sum[ep]+=reward\n",
    "\n",
    "                next_action = None\n",
    "                # Select action based o target policy (Differs between methods)\n",
    "                if method == \"Q\":\n",
    "                    next_action = self.greedy_action(next_state)\n",
    "                elif method == \"SARSA\":\n",
    "                    next_action = self.epsilon_greedy_action(next_state)    \n",
    "\n",
    "                # Computing index in q value matrix\n",
    "                cur_ind = cur_state+(cur_action,)\n",
    "                next_ind = next_state+(next_action,)\n",
    "\n",
    "                # Updating q vallue for given state and action\n",
    "                self.q[cur_ind] += self.alpha*(reward+self.q[next_ind]-self.q[cur_ind]) \n",
    "\n",
    "                # Updating current state to next state\n",
    "                cur_state = next_state\n",
    "                \n",
    "        return reward_sum          \n",
    "        "
   ]
  },
  {
   "cell_type": "code",
   "execution_count": 4,
   "metadata": {},
   "outputs": [
    {
     "name": "stderr",
     "output_type": "stream",
     "text": [
      "100%|████████████████████████████████████████████████████████████████████████████████| 100/100 [00:21<00:00,  4.75it/s]\n"
     ]
    },
    {
     "data": {
      "image/png": "[encoded data removed]",
      "text/plain": [
       "<matplotlib.figure.Figure at 0x1c01cfe7eb8>"
      ]
     },
     "metadata": {},
     "output_type": "display_data"
    }
   ],
   "source": [
    "cw = CliffWalk(epsilon = 0.1,alpha = 0.4)\n",
    "\n",
    "fig = plt.figure()\n",
    "ax = fig.add_subplot(111)\n",
    "\n",
    "runs = 100\n",
    "episodes = 500\n",
    "\n",
    "q_rewards = np.zeros(episodes)\n",
    "sarsa_rewards = np.zeros(episodes)\n",
    "\n",
    "# iterating over runs\n",
    "for r in tqdm(range(runs)):\n",
    "    # Accumulating rewards for q learning\n",
    "    q_rewards += cw.run_eps(episodes,\"Q\")\n",
    "    # reseting q value for next run\n",
    "    cw.reset_q()\n",
    "    # Accumulating rewards for sarsa\n",
    "    sarsa_rewards += cw.run_eps(episodes,\"SARSA\")\n",
    "    # reseting q value for next run\n",
    "    cw.reset_q()\n",
    "    \n",
    "# Smooth reward values to reduce noise in output\n",
    "for i in range(2,episodes):\n",
    "    q_rewards[i] = (q_rewards[i]+q_rewards[i-1]+q_rewards[i-2])/3.\n",
    "    sarsa_rewards[i] = (sarsa_rewards[i]+sarsa_rewards[i-1]+sarsa_rewards[i-2])/3.\n",
    "\n",
    "# Plotting code \n",
    "ax.plot(q_rewards/float(runs),label=\"Q Learning\")\n",
    "ax.plot(sarsa_rewards/float(runs),label=\"SARSA\")\n",
    "\n",
    "ax.legend(loc='lower right') \n",
    "ax.set_xlabel(\"Episodes\")\n",
    "ax.set_ylabel(\"Rewards\")\n",
    "ax.set_ylim(-100,0)\n",
    "fig.savefig(\"Q_SARSA_Rewards_smoothed.png\",dpi=1200)"
   ]
  },
  {
   "cell_type": "code",
   "execution_count": null,
   "metadata": {},
   "outputs": [],
   "source": []
  },
  {
   "cell_type": "code",
   "execution_count": null,
   "metadata": {},
   "outputs": [],
   "source": []
  }
 ],
 "metadata": {
  "kernelspec": {
   "display_name": "Python 3",
   "language": "python",
   "name": "python3"
  },
  "language_info": {
   "codemirror_mode": {
    "name": "ipython",
    "version": 3
   },
   "file_extension": ".py",
   "mimetype": "text/x-python",
   "name": "python",
   "nbconvert_exporter": "python",
   "pygments_lexer": "ipython3",
   "version": "3.6.4"
  }
 },
 "nbformat": 4,
 "nbformat_minor": 2
}
